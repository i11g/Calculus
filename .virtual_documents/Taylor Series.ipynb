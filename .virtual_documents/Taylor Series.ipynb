import numpy as np
import matplotlib.pyplot as plt

def taylor_sin_at_a(x, a, n_terms):
    """Compute Taylor series for sin(x) centered at x=a up to n_terms."""
    result = 0
    for n in range(n_terms):
        # nth derivative of sin(x) is sin(x + nπ/2), evaluated at x=a
        deriv = np.sin(a + n * np.pi / 2)
        result += (deriv /np.math.factorial(n)) * (x - a) ** n
    return result

# Visualization
x_values = np.linspace(-np.pi, np.pi, 200)
true_sin = np.sin(x_values)
a = 1.0  # Center point

plt.figure(figsize=(10, 6))
plt.plot(x_values, true_sin, label='True sin(x)', linewidth=2)

# Plot Taylor approximations for different n_terms
for n in [1, 2, 3, 5]:
    approx = [taylor_sin_at_a(x, a, n) for x in x_values]
    plt.plot(x_values, approx, label=f'Taylor at x={a} (n={n})', linestyle='--')

plt.title(f'Taylor Series Approximation of sin(x) Centered at x={a}')
plt.xlabel('x')
plt.ylabel('y')
plt.legend()
plt.grid(True)
plt.show()



